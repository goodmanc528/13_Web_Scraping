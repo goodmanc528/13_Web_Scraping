{
 "cells": [
  {
   "cell_type": "code",
   "execution_count": 4,
   "metadata": {},
   "outputs": [],
   "source": [
    "from bs4 import BeautifulSoup as bs\n",
    "import pandas as pd\n",
    "from splinter import Browser\n",
    "import requests"
   ]
  },
  {
   "cell_type": "code",
   "execution_count": 5,
   "metadata": {},
   "outputs": [],
   "source": [
    "executable_path = {'executable_path': 'chromedriver.exe'}\n",
    "browser = Browser('chrome', **executable_path, headless=False)"
   ]
  },
  {
   "cell_type": "code",
   "execution_count": 6,
   "metadata": {},
   "outputs": [
    {
     "name": "stdout",
     "output_type": "stream",
     "text": [
      "Opportunity Emerges in a Dusty Picture | NASA still hasn't heard from the Opportunity rover, but at least the agency can see it again.\n"
     ]
    }
   ],
   "source": [
    "# NASA Mars News\n",
    "url = 'https://mars.nasa.gov/news/?page=0&per_page=40&order=publish_date+desc%2Ccreated_at+desc&search=&category=19%2C165%2C184%2C204&blank_scope=Latest'\n",
    "browser.visit(url)\n",
    "html = browser.html\n",
    "soup = bs(html, 'html.parser')\n",
    "news_title = soup.find('div', class_='content_title').text\n",
    "news_p = soup.find('div', class_='rollover_description_inner').text\n",
    "print(f'{news_title} | {news_p}') #print results"
   ]
  },
  {
   "cell_type": "code",
   "execution_count": 7,
   "metadata": {},
   "outputs": [
    {
     "name": "stdout",
     "output_type": "stream",
     "text": [
      "http://www.jpl.nasa.gov/spaceimages/images/mediumsize/PIA19343_ip.jpg\n"
     ]
    }
   ],
   "source": [
    "# JPL Mars Space Images - Featured Image\n",
    "url2 = 'https://www.jpl.nasa.gov/spaceimages/?search=&category=Mars'\n",
    "browser.visit(url2)\n",
    "html = browser.html\n",
    "soup = bs(html, 'html.parser')\n",
    "imageURL = soup.find('a', class_=\"fancybox\")['data-fancybox-href']\n",
    "featured_image_url = \"http://www.jpl.nasa.gov\" + imageURL\n",
    "print(featured_image_url) #print results"
   ]
  },
  {
   "cell_type": "code",
   "execution_count": 8,
   "metadata": {},
   "outputs": [
    {
     "name": "stdout",
     "output_type": "stream",
     "text": [
      "Jose Morales captured Mars from Chicago last night. 15000 frames for this Mars tonight.  The South Pole, Syrtis Major Planum, and Hellas Planitia are visible.pic.twitter.com/cFkgmdoHDV\n"
     ]
    }
   ],
   "source": [
    "# Mars Weather\n",
    "url3 = 'https://twitter.com/marswxreport?lang=en'\n",
    "browser.visit(url3)\n",
    "html = browser.html\n",
    "soup = bs(html, 'html.parser')\n",
    "tweetText = soup.find('p', class_='tweet-text').text\n",
    "print(tweetText) #print results"
   ]
  },
  {
   "cell_type": "code",
   "execution_count": 9,
   "metadata": {},
   "outputs": [
    {
     "name": "stdout",
     "output_type": "stream",
     "text": [
      "<table border=\"0\" class=\"dataframe table table-striped\" id=\"mars_facts\">\n",
      "  <thead>\n",
      "    <tr style=\"text-align: right;\">\n",
      "      <th></th>\n",
      "      <th>Value</th>\n",
      "    </tr>\n",
      "    <tr>\n",
      "      <th>Property</th>\n",
      "      <th></th>\n",
      "    </tr>\n",
      "  </thead>\n",
      "  <tbody>\n",
      "    <tr>\n",
      "      <th>Equatorial Diameter:</th>\n",
      "      <td>6,792 km</td>\n",
      "    </tr>\n",
      "    <tr>\n",
      "      <th>Polar Diameter:</th>\n",
      "      <td>6,752 km</td>\n",
      "    </tr>\n",
      "    <tr>\n",
      "      <th>Mass:</th>\n",
      "      <td>6.42 x 10^23 kg (10.7% Earth)</td>\n",
      "    </tr>\n",
      "    <tr>\n",
      "      <th>Moons:</th>\n",
      "      <td>2 (Phobos &amp; Deimos)</td>\n",
      "    </tr>\n",
      "    <tr>\n",
      "      <th>Orbit Distance:</th>\n",
      "      <td>227,943,824 km (1.52 AU)</td>\n",
      "    </tr>\n",
      "    <tr>\n",
      "      <th>Orbit Period:</th>\n",
      "      <td>687 days (1.9 years)</td>\n",
      "    </tr>\n",
      "    <tr>\n",
      "      <th>Surface Temperature:</th>\n",
      "      <td>-153 to 20 °C</td>\n",
      "    </tr>\n",
      "    <tr>\n",
      "      <th>First Record:</th>\n",
      "      <td>2nd millennium BC</td>\n",
      "    </tr>\n",
      "    <tr>\n",
      "      <th>Recorded By:</th>\n",
      "      <td>Egyptian astronomers</td>\n",
      "    </tr>\n",
      "  </tbody>\n",
      "</table>\n"
     ]
    }
   ],
   "source": [
    "# Mars Facts - Use Pandas to convert the data to a HTML table string.\n",
    "import pprint as pp\n",
    "\n",
    "url4 = 'http://space-facts.com/mars/'\n",
    "table = pd.read_html(url4)\n",
    "marsTable = table[0]\n",
    "marsTable.columns = ['Property','Value']\n",
    "marsTable.set_index('Property', inplace=True)\n",
    "marsDict = marsTable.to_html(border=0, classes=\"table table-striped\", table_id=\"mars_facts\")\n",
    "print(marsDict)#print results"
   ]
  },
  {
   "cell_type": "code",
   "execution_count": 10,
   "metadata": {},
   "outputs": [],
   "source": [
    "# Mars Hemispheres\n",
    "url5 = 'https://astrogeology.usgs.gov/search/results?q=hemisphere+enhanced&k1=target&v1=Mars'\n",
    "browser.visit(url5)\n",
    "html = browser.html\n",
    "soup = bs(html, 'html.parser')\n",
    "marsURLS = soup.find_all('div', class_=\"description\")\n",
    "# print(marsURLS) #Check to see if bs object built as expected\n",
    "hemisphere_image_urls = []\n",
    "\n",
    "#Examine each item in the marsURLS list, created with BeautifulSoup, looking for the URL to the \n",
    "for div in marsURLS:\n",
    "    if (div.a):\n",
    "        if (div.a['href']):\n",
    "            hemiURL = 'https://astrogeology.usgs.gov' + div.a['href']\n",
    "            browser.visit(hemiURL)\n",
    "            html = browser.html\n",
    "            soup = bs(html, 'html.parser')\n",
    "            marsHemi = soup.find('h2', class_='title').text\n",
    "            marsPhoto = soup.find('div', class_='downloads').ul.li.a['href']\n",
    "            hemisphere_image_urls.append({'title': marsHemi,'img_url': marsPhoto})\n",
    "\n",
    "#print(hemisphere_image_urls) #print results\n",
    "\n",
    "# FYI/TMI - if you wanted to breakdown the above for loop into two steps: 1)gather hemisphere URLS, 2)scrape\n",
    "# hemisphere urls use the below as the second step.  Additional Steps: 1. A list called urlPhotos would\n",
    "# need to be declared. 2)everything below \"hemiURL\" below would need to be deleted and replaced with an\n",
    "# urlPhotos.append method to add the hemisphere URL to the list.\n",
    "\n",
    "#for i in urlPhotos:\n",
    "#     browser.visit(i)\n",
    "#     html = browser.html\n",
    "#     soup = bs(html, 'html.parser')\n",
    "#     marsHemi = soup.find('h2', class_='title').text\n",
    "#     marsHemi = marsHemi.replace(\" Enhanced\",\"\")\n",
    "#     marsPhoto = soup.find('div', class_='downloads').ul.li.a['href']\n",
    "#     hemisphere_image_urls.append({'title': marsHemi,'img_url': marsPhoto})"
   ]
  },
  {
   "cell_type": "code",
   "execution_count": 11,
   "metadata": {},
   "outputs": [],
   "source": [
    "#build dictionary\n",
    "import pprint as pp\n",
    "marsInfo = {\n",
    "    'Mars News Title':news_title,\n",
    "    'Mars News':news_p,\n",
    "    'Mars Featured Image': featured_image_url,\n",
    "    'Mars Weather': tweetText,\n",
    "    'Mars Facts': marsTable,\n",
    "    'Mars Hemispheres': hemisphere_image_urls\n",
    "}\n",
    "\n",
    "# # print(marsInfor[NAME OF KEY])\n",
    "# print(marsInfo['Mars Hemispheres'][2]['img_url'])\n",
    "# n = (len(marsInfo['Mars Facts']))+1\n",
    "# print(marsInfo['Mars Facts'][0:n])\n",
    "    "
   ]
  },
  {
   "cell_type": "code",
   "execution_count": null,
   "metadata": {},
   "outputs": [],
   "source": []
  }
 ],
 "metadata": {
  "kernelspec": {
   "display_name": "Python 3",
   "language": "python",
   "name": "python3"
  },
  "language_info": {
   "codemirror_mode": {
    "name": "ipython",
    "version": 3
   },
   "file_extension": ".py",
   "mimetype": "text/x-python",
   "name": "python",
   "nbconvert_exporter": "python",
   "pygments_lexer": "ipython3",
   "version": "3.6.5"
  }
 },
 "nbformat": 4,
 "nbformat_minor": 2
}
